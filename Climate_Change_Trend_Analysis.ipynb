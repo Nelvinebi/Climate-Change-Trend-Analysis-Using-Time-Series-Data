{
 "cells": [
  {
   "cell_type": "markdown",
   "id": "eac4bc9c",
   "metadata": {},
   "source": [
    "# Climate Change Trend Analysis Using Time-Series Data\n",
    "This notebook demonstrates synthetic climate data generation, visualization, time-series decomposition, and forecasting using ARIMA."
   ]
  },
  {
   "cell_type": "code",
   "execution_count": null,
   "id": "9d1cc2b8",
   "metadata": {},
   "outputs": [],
   "source": [
    "import numpy as np\n",
    "import pandas as pd\n",
    "import matplotlib.pyplot as plt\n",
    "from statsmodels.tsa.seasonal import seasonal_decompose\n",
    "from statsmodels.tsa.arima.model import ARIMA\n",
    "from sklearn.metrics import mean_absolute_error, mean_squared_error\n",
    "from pathlib import Path"
   ]
  },
  {
   "cell_type": "code",
   "execution_count": null,
   "id": "ab06b1bf",
   "metadata": {},
   "outputs": [],
   "source": [
    "# Generate synthetic time-series data\n",
    "np.random.seed(42)\n",
    "n_months = 240  # 20 years monthly data\n",
    "dates = pd.date_range(start='2000-01-01', periods=n_months, freq='M')\n",
    "\n",
    "# Temperature anomaly\n",
    "temp_trend = np.linspace(0, 1.2, n_months)\n",
    "temp_season = 0.2 * np.sin(2 * np.pi * np.arange(n_months) / 12)\n",
    "temp_noise = np.random.normal(0, 0.05, n_months)\n",
    "temperature_anomaly = temp_trend + temp_season + temp_noise\n",
    "\n",
    "# CO2 concentration\n",
    "co2_trend = 370 + np.linspace(0, 50, n_months)\n",
    "co2_season = 3 * np.sin(2 * np.pi * np.arange(n_months) / 12)\n",
    "co2_noise = np.random.normal(0, 1, n_months)\n",
    "co2_concentration = co2_trend + co2_season + co2_noise\n",
    "\n",
    "# Sea level rise\n",
    "sea_level_trend = 0.01 * (np.arange(n_months) ** 1.1)\n",
    "sea_level_noise = np.random.normal(0, 0.5, n_months)\n",
    "sea_level_rise = sea_level_trend + sea_level_noise\n",
    "\n",
    "# DataFrame\n",
    "df = pd.DataFrame({\n",
    "    'date': dates,\n",
    "    'temperature_anomaly': temperature_anomaly,\n",
    "    'co2_concentration': co2_concentration,\n",
    "    'sea_level_rise': sea_level_rise\n",
    "}).set_index('date')\n",
    "\n",
    "# Save dataset\n",
    "df.to_csv('climate_change_time_series.csv')\n",
    "df.head()"
   ]
  },
  {
   "cell_type": "code",
   "execution_count": null,
   "id": "f4b9a5ea",
   "metadata": {},
   "outputs": [],
   "source": [
    "plt.figure(figsize=(12,6))\n",
    "plt.plot(df.index, df['temperature_anomaly'], label='Temperature Anomaly (°C)')\n",
    "plt.plot(df.index, df['co2_concentration']/100, label='CO₂ Concentration (/100 ppm)')\n",
    "plt.plot(df.index, df['sea_level_rise']/10, label='Sea Level Rise (/10 cm)')\n",
    "plt.title('Synthetic Climate Change Indicators (2000–2019)')\n",
    "plt.xlabel('Year')\n",
    "plt.ylabel('Scaled values')\n",
    "plt.legend()\n",
    "plt.tight_layout()\n",
    "plt.show()"
   ]
  },
  {
   "cell_type": "code",
   "execution_count": null,
   "id": "5a4c66c3",
   "metadata": {},
   "outputs": [],
   "source": [
    "decomp = seasonal_decompose(df['temperature_anomaly'], model='additive', period=12)\n",
    "decomp.plot()\n",
    "plt.suptitle('Seasonal Decomposition of Temperature Anomaly', y=1.02)\n",
    "plt.show()"
   ]
  },
  {
   "cell_type": "code",
   "execution_count": null,
   "id": "576b2634",
   "metadata": {},
   "outputs": [],
   "source": [
    "# Train-test split\n",
    "train_size = int(len(df) * 0.8)\n",
    "train, test = df['temperature_anomaly'][:train_size], df['temperature_anomaly'][train_size:]\n",
    "\n",
    "# ARIMA model\n",
    "model = ARIMA(train, order=(2, 1, 2))\n",
    "fit = model.fit()\n",
    "forecast = fit.forecast(steps=len(test))\n",
    "\n",
    "# Evaluation\n",
    "mae = mean_absolute_error(test, forecast)\n",
    "rmse = mean_squared_error(test, forecast, squared=False)\n",
    "print(f'Forecast MAE: {mae:.3f}')\n",
    "print(f'Forecast RMSE: {rmse:.3f}')\n",
    "\n",
    "# Plot\n",
    "plt.figure(figsize=(10,5))\n",
    "plt.plot(train.index, train, label='Train')\n",
    "plt.plot(test.index, test, label='Test', color='orange')\n",
    "plt.plot(test.index, forecast, label='Forecast', color='red', linestyle='--')\n",
    "plt.title('ARIMA Forecast of Temperature Anomaly')\n",
    "plt.xlabel('Year')\n",
    "plt.ylabel('Temperature Anomaly (°C)')\n",
    "plt.legend()\n",
    "plt.tight_layout()\n",
    "plt.show()"
   ]
  }
 ],
 "metadata": {},
 "nbformat": 4,
 "nbformat_minor": 5
}
